{
 "cells": [
  {
   "cell_type": "code",
   "execution_count": 1,
   "metadata": {},
   "outputs": [
    {
     "name": "stdout",
     "output_type": "stream",
     "text": [
      "Jupyter environment detected. Enabling Open3D WebVisualizer.\n",
      "[Open3D INFO] WebRTC GUI backend enabled.\n",
      "[Open3D INFO] WebRTCWindowSystem: HTTP handshake server disabled.\n"
     ]
    }
   ],
   "source": [
    "import sys\n",
    "import os\n",
    "import os.path\n",
    "from pathlib import Path\n",
    "from rdflib import Graph, Namespace, RDF, URIRef, Literal\n",
    "from collections import Counter\n",
    "import json\n",
    "\n",
    "import rdflib\n",
    "\n",
    "import pandas as pd\n",
    "import numpy as np\n",
    "\n",
    "import laspy\n",
    "\n",
    "from scipy.spatial.distance import euclidean\n",
    "\n",
    "import geomapi.tools as tl\n",
    "from geomapi.nodes import PointCloudNode\n",
    "import geomapi.utils as ut\n",
    "from geomapi.utils import geometryutils as gmu\n",
    "from geomapi.nodes import PointCloudNode\n",
    "\n",
    "from scipy.spatial import ConvexHull\n",
    "from sklearn.decomposition import PCA\n",
    "\n",
    "import topologicpy as tp\n",
    "from topologicpy.Graph import Graph\n",
    "from topologicpy.Dictionary import Dictionary\n",
    "\n",
    "from topologicpy.Topology import Topology\n",
    "from topologicpy.Vertex import Vertex\n",
    "from topologicpy.Edge import Edge\n",
    "from topologicpy.Wire import Wire\n",
    "from topologicpy.Face import Face\n",
    "from topologicpy.Shell import Shell\n",
    "from topologicpy.Cell import Cell\n",
    "from topologicpy.CellComplex import CellComplex\n",
    "\n",
    "from topologicpy.Vector import Vector\n",
    "from topologicpy.Plotly import Plotly\n",
    "\n",
    "import matplotlib.pyplot as plt\n",
    "import plotly.graph_objects as go\n",
    "\n",
    "import context_KUL\n",
    "import utils_KUL as kul\n",
    "import utils_energy as en"
   ]
  },
  {
   "cell_type": "markdown",
   "metadata": {},
   "source": [
    "STANDARD INPUTS"
   ]
  },
  {
   "cell_type": "code",
   "execution_count": 24,
   "metadata": {},
   "outputs": [
    {
     "name": "stdout",
     "output_type": "stream",
     "text": [
      "c:\\Users\\oscar\\OneDrive - Fondazione Bruno Kessler\\KUL_GeometricModel\\script\n",
      "Pcd_input_path: c:\\Users\\oscar\\OneDrive - Fondazione Bruno Kessler\\KUL_GeometricModel\\data\\school_v1\n",
      "File name c:\\Users\\oscar\\OneDrive - Fondazione Bruno Kessler\\KUL_GeometricModel\\data\\school_v1\\school_v1.laz\n",
      "class_file: c:\\Users\\oscar\\OneDrive - Fondazione Bruno Kessler\\KUL_GeometricModel\\script\\_classes_expanded.json\n",
      "class file exists: c:\\Users\\oscar\\OneDrive - Fondazione Bruno Kessler\\KUL_GeometricModel\\script\\_classes_expanded.json\n"
     ]
    }
   ],
   "source": [
    "current_directory=Path(os.getcwd())\n",
    "print(current_directory)\n",
    "\n",
    "name = 'school_v1'\n",
    "\n",
    "path = Path(os.getcwd()).parents[0] / 'data'\n",
    "pcd_input_path = path / f'{name}'\n",
    "file_name = pcd_input_path / f'{name}.laz'\n",
    "print(f'Pcd_input_path: {pcd_input_path}\\nFile name {file_name}')\n",
    "\n",
    "class_file = Path(os.getcwd()) / '_classes_expanded.json'\n",
    "print('class_file:', class_file)\n",
    "\n",
    "if not class_file.exists():\n",
    "    print(f\"class file not found: {class_file}\")\n",
    "else:\n",
    "    print(f\"class file exists: {class_file}\")\n"
   ]
  },
  {
   "cell_type": "code",
   "execution_count": 6,
   "metadata": {},
   "outputs": [
    {
     "name": "stdout",
     "output_type": "stream",
     "text": [
      "c:\\Users\\oscar\\OneDrive - Fondazione Bruno Kessler\\KUL_GeometricModel\\data\\school_v1\n"
     ]
    }
   ],
   "source": [
    "output_folder = Path(os.getcwd()).parents[1] / 'outputs'\n",
    "json_output_path = os.path.join(output_folder, f'{name}_elemnts.json') \n",
    "geometry_output_path = os.path.join(output_folder, f'{name}_elements.obj') # these are the bounding surfaces of the reference levels (optional)\n",
    "\n",
    "print(pcd_input_path)\n"
   ]
  },
  {
   "cell_type": "code",
   "execution_count": 7,
   "metadata": {},
   "outputs": [
    {
     "name": "stdout",
     "output_type": "stream",
     "text": [
      "Output folder c:\\Users\\oscar\\OneDrive - Fondazione Bruno Kessler\\outputs\n"
     ]
    }
   ],
   "source": [
    "# Output \n",
    "file_graph_name = name\n",
    "graph_path_str = str(output_folder / f'{file_graph_name}_graph.ttl')\n",
    "print('Output folder', output_folder)\n"
   ]
  },
  {
   "cell_type": "code",
   "execution_count": 9,
   "metadata": {},
   "outputs": [
    {
     "name": "stdout",
     "output_type": "stream",
     "text": [
      "Input folder ttl: c:\\Users\\oscar\\OneDrive - Fondazione Bruno Kessler\\KUL_GeometricModel\\data\\graph_files\n",
      "ttl: c:\\Users\\oscar\\OneDrive - Fondazione Bruno Kessler\\KUL_GeometricModel\\data\\graph_files\\school_v1_graph.ttl\n",
      "ttl URI: file:///c:/Users/oscar/OneDrive%20-%20Fondazione%20Bruno%20Kessler/KUL_GeometricModel/data/graph_files/school_v1_graph.ttl\n",
      "Graph parsed successfully\n"
     ]
    }
   ],
   "source": [
    "from rdflib import Graph\n",
    "\n",
    "input_folder_ttl = path / 'graph_files'\n",
    "print('Input folder ttl:', input_folder_ttl)\n",
    "\n",
    "graph_path = input_folder_ttl / f'{name}_graph.ttl'\n",
    "print('ttl:', graph_path)\n",
    "graph_path_uri = graph_path.as_uri()\n",
    "print('ttl URI:', graph_path_uri)\n",
    "\n",
    "graph = Graph()\n",
    "graph.parse(graph_path_uri, format=\"turtle\")\n",
    "print(\"Graph parsed successfully\")\n"
   ]
  },
  {
   "cell_type": "code",
   "execution_count": 10,
   "metadata": {},
   "outputs": [
    {
     "name": "stdout",
     "output_type": "stream",
     "text": [
      "c:\\Users\\oscar\\OneDrive - Fondazione Bruno Kessler\\KUL_GeometricModel\\data\\outputs\n"
     ]
    }
   ],
   "source": [
    "output_folder = path / 'outputs' \n",
    "print(output_folder)\n",
    "output_file_path = output_folder / f'{name}.json'\n",
    "output_json_file = output_folder = path / f'{name}_elements.json'\n"
   ]
  },
  {
   "cell_type": "code",
   "execution_count": 11,
   "metadata": {},
   "outputs": [
    {
     "name": "stdout",
     "output_type": "stream",
     "text": [
      "Class dictionary: {'classes': [{'name': 'Unassigned', 'id': 255, 'temp_id': -1, 'color': '#9da2ab'}, {'name': 'Floors', 'id': 0, 'temp_id': 0, 'color': '#03c2fc'}, {'name': 'Ceilings', 'id': 1, 'temp_id': 1, 'color': '#e81416'}, {'name': 'Walls', 'id': 2, 'temp_id': 2, 'color': '#ffa500'}, {'name': 'Columns', 'id': 3, 'temp_id': 3, 'color': '#faeb36'}, {'name': 'Doors', 'id': 4, 'temp_id': 4, 'color': '#79c314'}, {'name': 'Windows', 'id': 5, 'temp_id': 5, 'color': '#4b369d'}, {'name': 'Lights', 'id': 6, 'temp_id': 6, 'color': '#7a93eb'}, {'name': 'Radiators', 'id': 7, 'temp_id': 7, 'color': '#d93b67'}, {'name': 'HVAC', 'id': 8, 'temp_id': 8, 'color': '#42b8a6'}], 'default': 255, 'type': 'semantic_segmentation', 'format': 'kitti', 'created_with': {'name': 'Saiga', 'version': '1.0.1'}}\n"
     ]
    }
   ],
   "source": [
    "with open(class_file, 'r') as file:\n",
    "    json_data = json.load(file)\n",
    "\n",
    "class_dict = {\n",
    "    'classes': json_data.get('classes', []),\n",
    "    'default': json_data.get('default', {}),\n",
    "    'type': json_data.get('type', ''),\n",
    "    'format': json_data.get('format', ''),\n",
    "    'created_with': json_data.get('created_with', '')\n",
    "}\n",
    "\n",
    "print('Class dictionary:', class_dict)"
   ]
  },
  {
   "cell_type": "code",
   "execution_count": 12,
   "metadata": {},
   "outputs": [
    {
     "name": "stdout",
     "output_type": "stream",
     "text": [
      "Las file <LasData(1.2, point fmt: <PointFormat(2, 2 bytes of extra dims)>, 3126542 points, 1 vlrs)>\n",
      "PCD PointCloud with 3126542 points.\n",
      " PCD_Nodes <geomapi.nodes.pointcloudnode.PointCloudNode object at 0x00000227D00CB910>\n",
      " Normals [[-0.04697317 -0.03550417  0.99826498]\n",
      " [-0.01021667  0.02556956  0.99962084]\n",
      " [ 0.03704321 -0.02480083  0.99900587]\n",
      " ...\n",
      " [-0.9998618  -0.01634594  0.0030307 ]\n",
      " [ 0.99996751 -0.0048734   0.00642091]\n",
      " [ 0.99892968  0.00289677  0.04616383]]\n"
     ]
    }
   ],
   "source": [
    "laz, pcd, pcd_nodes, normals = kul.load_point_cloud(file_name)\n",
    "print(f'Las file {laz}\\nPCD {pcd}\\n PCD_Nodes {pcd_nodes}\\n Normals {normals}')"
   ]
  },
  {
   "cell_type": "markdown",
   "metadata": {},
   "source": [
    "ENERGY INPUTS: IMPORT IDF"
   ]
  },
  {
   "cell_type": "code",
   "execution_count": 46,
   "metadata": {},
   "outputs": [],
   "source": [
    "idf_data = \"\"\"\n",
    "Building,\n",
    "  MyBuilding,             !- Name\n",
    "  30.0,                   !- North Axis (degrees)\n",
    "  Suburbs,                !- Terrain\n",
    "  0.04,                   !- Loads Convergence Tolerance Value\n",
    "  0.004,                  !- Temperature Convergence Tolerance Value (deltaC)\n",
    "  FullExterior,           !- Solar Distribution\n",
    "  25;                     !- Maximum Number of Warmup Days\n",
    "\n",
    "Zone,\n",
    "  MyZone,                 !- Name\n",
    "  0.0000,                 !- Direction of Relative North (degrees)\n",
    "  0.0000,                 !- X Origin (m)\n",
    "  0.0000,                 !- Y Origin (m)\n",
    "  0.0000,                 !- Z Origin (m)\n",
    "  1,                      !- Type\n",
    "  1,                      !- Multiplier\n",
    "  autocalculate,          !- Ceiling Height (m)\n",
    "  autocalculate;          !- Volume (m3)\n",
    "\n",
    "Material,\n",
    "  Concrete,               !- Name\n",
    "  Rough,                  !- Roughness\n",
    "  0.1524,                 !- Thickness (m)\n",
    "  1.311,                  !- Conductivity (W/m-K)\n",
    "  2240,                   !- Density (kg/m3)\n",
    "  836.8;                  !- Specific Heat (J/kg-K)\n",
    "\n",
    "WindowMaterial:SimpleGlazingSystem,\n",
    "  WindowGlass,            !- Name\n",
    "  2.5,                    !- U-Factor (W/m2-K)\n",
    "  0.6,                    !- Solar Heat Gain Coefficient\n",
    "  0.7;                    !- Visible Transmittance\n",
    "\n",
    "Schedule:Compact,\n",
    "  LightingSchedule,       !- Name\n",
    "  Fraction,               !- Schedule Type Limits Name\n",
    "  Through: 12/31,         !- Field 1\n",
    "  For: AllDays,           !- Field 2\n",
    "  Until: 24:00, 1.0;      !- Field 3\n",
    "\n",
    "Lights,\n",
    "  MyZone_Lights,          !- Name\n",
    "  MyZone,                 !- Zone Name\n",
    "  LightingSchedule,       !- Schedule Name\n",
    "  Watts/Area,             !- Design Level Calculation Method\n",
    "  ,                       !- Lighting Level (W)\n",
    "  12.0,                   !- Watts per Zone Floor Area (W/m2)\n",
    "  ,                       !- Watts per Person\n",
    "  0.2000,                 !- Return Air Fraction\n",
    "  0.0000,                 !- Fraction Radiant\n",
    "  0.0000,                 !- Fraction Visible\n",
    "  1.0000,                 !- Fraction Replaceable\n",
    "  GeneralLights;          !- End-Use Subcategory\n",
    "\"\"\"\n"
   ]
  },
  {
   "cell_type": "markdown",
   "metadata": {},
   "source": [
    "BUILDING METADATA\n",
    "\n",
    "Substitute laz with ComplexCells and Clusters from TopologicEnergyModel.ipynb"
   ]
  },
  {
   "cell_type": "code",
   "execution_count": 36,
   "metadata": {},
   "outputs": [],
   "source": [
    "def compute_oriented_bounding_box(laz_file_path):\n",
    "\n",
    "    # Open and read the LAZ file\n",
    "    las_data = laspy.read(laz_file_path)\n",
    "    \n",
    "    # Extract the X, Y, and Z coordinates (these are already scaled)\n",
    "    x_coords = las_data.x\n",
    "    y_coords = las_data.y\n",
    "    z_coords = las_data.z\n",
    "    \n",
    "    # Stack the coordinates into a (N, 3) array of points\n",
    "    points = np.vstack((x_coords, y_coords, z_coords)).T\n",
    "    \n",
    "    # Perform PCA to find the principal axes of the point cloud\n",
    "    pca = PCA(n_components=3)\n",
    "    pca.fit(points)\n",
    "    \n",
    "    # The principal axes (eigenvectors)\n",
    "    rotation_matrix = pca.components_\n",
    "    \n",
    "    # Transform points into the principal component space (rotated points)\n",
    "    points_rotated = pca.transform(points)\n",
    "    \n",
    "    # Calculate the min and max in the rotated space (principal component space)\n",
    "    min_corner = np.min(points_rotated, axis=0)\n",
    "    max_corner = np.max(points_rotated, axis=0)\n",
    "    \n",
    "    # Create the bounding box in the rotated space\n",
    "    bbox_rotated = np.array([min_corner[0], max_corner[0],  # X axis\n",
    "                             min_corner[1], max_corner[1],  # Y axis\n",
    "                             min_corner[2], max_corner[2]]) # Z axis\n",
    "    \n",
    "    return points, points_rotated, bbox_rotated, rotation_matrix\n",
    "\n",
    "def extract_beta_angle_from_rotation_matrix(rotation_matrix):\n",
    "\n",
    "    # Extract the β angle (rotation around the Z-axis)\n",
    "    beta_rad = np.arctan2(rotation_matrix[1, 0], rotation_matrix[0, 0])\n",
    "    \n",
    "    # Convert the angle from radians to degrees\n",
    "    beta_angle = np.degrees(beta_rad)\n",
    "    \n",
    "    return beta_angle\n",
    "\n",
    "def rotation_matrix_z(beta_angle):\n",
    "\n",
    "    # Convert the angle to radians\n",
    "    beta_rad = np.radians(beta_angle)\n",
    "    \n",
    "    # 3D rotation matrix around Z-axis\n",
    "    rotation_matrix = np.array([\n",
    "        [np.cos(beta_rad), -np.sin(beta_rad), 0],\n",
    "        [np.sin(beta_rad), np.cos(beta_rad),  0],\n",
    "        [0, 0, 1]\n",
    "    ])\n",
    "    \n",
    "    return rotation_matrix"
   ]
  },
  {
   "cell_type": "code",
   "execution_count": 37,
   "metadata": {},
   "outputs": [
    {
     "name": "stdout",
     "output_type": "stream",
     "text": [
      "Rotated Points (first 5): [[11.59487928 -3.62211859 -1.2508574 ]\n",
      " [11.63669688 -3.59472121 -1.25249207]\n",
      " [11.50901361 -3.63361402 -1.25614333]\n",
      " [11.64640303 -3.55973628 -1.24919881]\n",
      " [11.61046311 -3.56596577 -1.2507849 ]]\n",
      "\n",
      "Bounding Box (Rotated Space): [-11.07647717  11.81420093  -4.17320686   4.34909341  -1.56328407\n",
      "   2.54370522]\n",
      "\n",
      "Rotation Matrix:\n",
      "[[-0.99991585  0.00777841 -0.01038176]\n",
      " [-0.00742107 -0.99939339 -0.03402616]\n",
      " [-0.01064013 -0.03394625  0.99936702]]\n"
     ]
    }
   ],
   "source": [
    "points, points_rotated, bbox_rotated, rotation_matrix = compute_oriented_bounding_box(file_name)\n",
    "rotation_matrix_inverse = np.linalg.inv(rotation_matrix)\n",
    "center = np.mean(points, axis = 0)\n",
    "\n",
    "points_aligned_with_axes = kul.rotate_points_3d(points_rotated, center, rotation_matrix_inverse)\n",
    "\n",
    "# Display results\n",
    "print(\"Rotated Points (first 5):\", points_rotated[:5])  # Displaying first 5 points for brevity\n",
    "print(\"\\nBounding Box (Rotated Space):\", bbox_rotated)\n",
    "print(\"\\nRotation Matrix:\")\n",
    "print(rotation_matrix)\n"
   ]
  },
  {
   "cell_type": "markdown",
   "metadata": {},
   "source": [
    "Building's orientation or the surface azimuth angle (β)"
   ]
  },
  {
   "cell_type": "code",
   "execution_count": 43,
   "metadata": {},
   "outputs": [
    {
     "name": "stdout",
     "output_type": "stream",
     "text": [
      "Exposition angle of buildings N/S: -179.575\n",
      "Building's Rotated Bounding Box (after applying β angle rotation): [[-95.82635734  25.02728095  -1.2508574 ]\n",
      " [-95.86837711  25.00019467  -1.25249207]\n",
      " [-95.74040872  25.03813882  -1.25614333]\n",
      " [-95.87834264  24.96528274  -1.24919881]\n",
      " [-95.84235748  24.97124534  -1.2507849 ]]\n",
      "Rotation Matrix used for β angle rotation: [[-0.99997246  0.00742149  0.        ]\n",
      " [-0.00742149 -0.99997246  0.        ]\n",
      " [ 0.          0.          1.        ]]\n"
     ]
    }
   ],
   "source": [
    "beta_angle = extract_beta_angle_from_rotation_matrix(rotation_matrix)\n",
    "\n",
    "rotation_matrix_building = rotation_matrix_z(beta_angle)\n",
    "center_of_bbox = np.mean(points, axis=0)  # Assuming you rotate around the center of the building\n",
    "rotated_bbox = kul.rotate_points_3d(points_rotated, center_of_bbox, rotation_matrix_building)\n",
    "\n",
    "print (f\"Exposition angle of buildings N/S: {round(beta_angle, 3)}\")\n",
    "print(f\"Building's Rotated Bounding Box (after applying β angle rotation): {rotated_bbox[:5]}\") \n",
    "print(f'Rotation Matrix used for β angle rotation: {rotation_matrix_building}')\n"
   ]
  },
  {
   "cell_type": "code",
   "execution_count": null,
   "metadata": {},
   "outputs": [],
   "source": []
  },
  {
   "cell_type": "code",
   "execution_count": null,
   "metadata": {},
   "outputs": [],
   "source": []
  },
  {
   "cell_type": "code",
   "execution_count": null,
   "metadata": {},
   "outputs": [],
   "source": []
  },
  {
   "cell_type": "code",
   "execution_count": null,
   "metadata": {},
   "outputs": [],
   "source": []
  }
 ],
 "metadata": {
  "kernelspec": {
   "display_name": "cvpr",
   "language": "python",
   "name": "python3"
  },
  "language_info": {
   "codemirror_mode": {
    "name": "ipython",
    "version": 3
   },
   "file_extension": ".py",
   "mimetype": "text/x-python",
   "name": "python",
   "nbconvert_exporter": "python",
   "pygments_lexer": "ipython3",
   "version": "3.10.13"
  }
 },
 "nbformat": 4,
 "nbformat_minor": 2
}
